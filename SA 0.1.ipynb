{
 "cells": [
  {
   "cell_type": "code",
   "execution_count": 1,
   "metadata": {
    "ExecuteTime": {
     "end_time": "2019-06-13T11:44:39.113412Z",
     "start_time": "2019-06-13T11:43:56.125836Z"
    }
   },
   "outputs": [],
   "source": [
    "import csv\n",
    "import numpy as np\n",
    "import random\n",
    "import tensorflow as tf\n",
    "from tensorflow import keras\n",
    "import re"
   ]
  },
  {
   "cell_type": "code",
   "execution_count": 2,
   "metadata": {
    "ExecuteTime": {
     "end_time": "2019-06-13T11:44:39.888521Z",
     "start_time": "2019-06-13T11:44:39.124143Z"
    }
   },
   "outputs": [
    {
     "name": "stdout",
     "output_type": "stream",
     "text": [
      "12900\n",
      "25800\n",
      "25800\n"
     ]
    }
   ],
   "source": [
    "#Reading Data\n",
    "\n",
    "sentences=[]\n",
    "labels=[]\n",
    "\n",
    "with open('final_data.csv', 'r') as f:\n",
    "    reader = csv.reader(f)\n",
    "    data = list(reader)\n",
    "    for datum in data:\n",
    "        sentences.append(re.sub(r'[^\\w\\s]','',datum[0]).lower())\n",
    "        labels.append(datum[1])\n",
    "  \n",
    "division_factor = len(sentences) * 50 // 100\n",
    "    \n",
    "# Sanity check\n",
    "print(division_factor)\n",
    "print(len(sentences))\n",
    "print(len(labels))"
   ]
  },
  {
   "cell_type": "code",
   "execution_count": 3,
   "metadata": {
    "ExecuteTime": {
     "end_time": "2019-06-13T11:44:56.814698Z",
     "start_time": "2019-06-13T11:44:51.411579Z"
    }
   },
   "outputs": [
    {
     "name": "stderr",
     "output_type": "stream",
     "text": [
      "Using TensorFlow backend.\n"
     ]
    },
    {
     "name": "stdout",
     "output_type": "stream",
     "text": [
      "Tokenizing...\n",
      "Done.\n",
      "Building a dictionary...\n",
      "5000 Unique vocabulary has been added\n",
      "Using vocabulary size 5003.\n",
      "Tokenized sentence example ['<START>', 'gayet', 'gã¼zel', 'bir', 'ã¼rã¼n', 'ama', 'keåÿke', 'daha', 'ucuz', 'olsa', 'kã¼ãã¼k', '<UNK>', 'daha', 'bã¼yã¼k', '<UNK>', 'ihtiyacä', 'olmuyor', 'kã¼ãã¼k', 'yazäcä', 'kullanänca', 'da', 'kartuåÿ', 'biraz', '<UNK>', 'oluyor', 'ama', 'ã¼rã¼n', 'gã¼zel']\n"
     ]
    }
   ],
   "source": [
    "# --------------------------------------------------------------------\n",
    "# tokenizing + one-hot encoding on the word level --------------------\n",
    "# --------------------------------------------------------------------\n",
    "from keras.preprocessing.text import text_to_word_sequence\n",
    "\n",
    "print(\"Tokenizing...\")\n",
    "tokenized_sentences=[text_to_word_sequence(sentence) for sentence in sentences]\n",
    "print(\"Done.\")\n",
    "\n",
    "# --------------------------------------------------------------------\n",
    "# Building a dictionary ----------------------------------------------\n",
    "# --------------------------------------------------------------------\n",
    "\n",
    "print(\"Building a dictionary...\")\n",
    "\n",
    "#build a token_frequency dictionary\n",
    "token_freq={}\n",
    "for sentence in sentences:\n",
    "    for word in sentence.split():\n",
    "        if word not in token_freq:\n",
    "            token_freq[word] = 1\n",
    "        else:\n",
    "            token_freq[word] +=1\n",
    "\n",
    "# sort the tokens by value(frequency) and get a list of tuples\n",
    "sorted_token_freq = sorted(token_freq.items(), key=lambda x: x[1], reverse=True)\n",
    "\n",
    "# get the 0'th element from each tuple -which is the token- and get rid of the frequency value\n",
    "# limited by the vocabulary size\n",
    "vocabulary_size=5000\n",
    "\n",
    "index_to_word=[]\n",
    "for i in range(vocabulary_size):\n",
    "    index_to_word.append(sorted_token_freq[i][0])\n",
    "print(\"%d Unique vocabulary has been added\" % len(index_to_word))\n",
    "\n",
    "sentence_padding_token = \"<PAD>\"\n",
    "sentence_start_token = \"<START>\"\n",
    "sentence_unknown_token = \"<UNK>\"\n",
    "\n",
    "# inserting tokens <PAD>, <START>, <UNK> \n",
    "index_to_word.insert(0,sentence_unknown_token)\n",
    "index_to_word.insert(0,sentence_start_token)\n",
    "index_to_word.insert(0,sentence_padding_token)\n",
    "\n",
    "# bulding a word to index dictionary\n",
    "\n",
    "word_to_index = dict([(w,i) for i,w in enumerate(index_to_word)])\n",
    "vocabulary_size += 3\n",
    "print(\"Using vocabulary size %d.\" % vocabulary_size)\n",
    "\n",
    "# adding start token to each sentence. Required for keras\n",
    "for sent in tokenized_sentences: \n",
    "    sent.insert(0,sentence_start_token)\n",
    "          \n",
    "# Substituting Unknown Vocab with an unknown Token\n",
    "for i, sent in enumerate(tokenized_sentences):\n",
    "    tokenized_sentences[i] = [w if w in word_to_index else sentence_unknown_token for w in sent]\n",
    "    \n",
    "print(\"Tokenized sentence example %s\" %tokenized_sentences[0])\n"
   ]
  },
  {
   "cell_type": "code",
   "execution_count": 4,
   "metadata": {
    "ExecuteTime": {
     "end_time": "2019-06-13T11:47:21.263146Z",
     "start_time": "2019-06-13T11:46:59.945891Z"
    }
   },
   "outputs": [
    {
     "name": "stdout",
     "output_type": "stream",
     "text": [
      "Creating datasets...\n",
      "\n",
      "check shapes ----------\n",
      "shape of X_train[0] (5003,)\n",
      "shape of X_test (12900, 5003)\n",
      "shape of Y_train (12900,)\n",
      "shape of Y_test (12900,)\n",
      "Done.\n"
     ]
    }
   ],
   "source": [
    "# ---------------------------------------------------------------------------------------\n",
    "# Create the training data --------------------------------------------------------------\n",
    "# ---------------------------------------------------------------------------------------\n",
    "print(\"Creating datasets...\")\n",
    "# one-hot encoding\n",
    "def vectorize_sequences(sequences, dimension=vocabulary_size):\n",
    "    results = np.zeros((len(sequences), dimension))\n",
    "    for i, sequence in enumerate(sequences):\n",
    "        results[i, sequence] = 1.\n",
    "    return results\n",
    "\n",
    "# converting to indices\n",
    "X_temp = np.asarray([[word_to_index[w] for w in sent] for sent in tokenized_sentences])\n",
    "\n",
    "data = vectorize_sequences(X_temp)\n",
    "\n",
    "# shuffling data\n",
    "unison_data = list(zip(data,labels))\n",
    "random.shuffle(unison_data)\n",
    "data, lbls = zip(*unison_data)\n",
    "\n",
    "division_factor = len(data) * 50//100\n",
    "\n",
    "# Splitting data\n",
    "x_train, x_test = np.asarray(data[ : division_factor]).astype('float32'), np.asarray(data[division_factor : ]).astype('float32') # 50, 50\n",
    "y_train ,y_test = np.asarray(lbls[ : division_factor]).astype('float32'), np.asarray(lbls[division_factor : ]).astype('float32') # 50, 50\n",
    "\n",
    "# Sanity checks\n",
    "print(\"\\ncheck shapes ----------\")\n",
    "print(\"shape of X_train[0] \" + str(x_train[0].shape))\n",
    "print(\"shape of X_test \" + str(x_test.shape))\n",
    "print(\"shape of Y_train \" + str(y_train.shape))\n",
    "print(\"shape of Y_test \" + str(y_test.shape))\n",
    "print(\"Done.\")\n"
   ]
  },
  {
   "cell_type": "code",
   "execution_count": 10,
   "metadata": {
    "ExecuteTime": {
     "end_time": "2019-06-13T11:52:16.338152Z",
     "start_time": "2019-06-13T11:52:16.270334Z"
    }
   },
   "outputs": [
    {
     "name": "stdout",
     "output_type": "stream",
     "text": [
      "_________________________________________________________________\n",
      "Layer (type)                 Output Shape              Param #   \n",
      "=================================================================\n",
      "dense_4 (Dense)              (None, 8)                 40032     \n",
      "_________________________________________________________________\n",
      "dense_5 (Dense)              (None, 1)                 9         \n",
      "=================================================================\n",
      "Total params: 40,041\n",
      "Trainable params: 40,041\n",
      "Non-trainable params: 0\n",
      "_________________________________________________________________\n"
     ]
    }
   ],
   "source": [
    "model = keras.models.Sequential()\n",
    "model.add(keras.layers.Dense(8, activation='relu', input_shape=(vocabulary_size,)))\n",
    "model.add(keras.layers.Dense(1, activation='sigmoid'))\n",
    "\n",
    "model.summary()\n"
   ]
  },
  {
   "cell_type": "code",
   "execution_count": 11,
   "metadata": {
    "ExecuteTime": {
     "end_time": "2019-06-13T11:52:31.549539Z",
     "start_time": "2019-06-13T11:52:20.036248Z"
    }
   },
   "outputs": [
    {
     "name": "stdout",
     "output_type": "stream",
     "text": [
      "Train on 12900 samples, validate on 6450 samples\n",
      "Epoch 1/15\n",
      "12900/12900 [==============================] - 1s 76us/step - loss: 0.5370 - acc: 0.8415 - val_loss: 0.4270 - val_acc: 0.8783\n",
      "Epoch 2/15\n",
      "12900/12900 [==============================] - 1s 49us/step - loss: 0.3463 - acc: 0.9047 - val_loss: 0.3262 - val_acc: 0.8895\n",
      "Epoch 3/15\n",
      "12900/12900 [==============================] - 1s 52us/step - loss: 0.2649 - acc: 0.9175 - val_loss: 0.2867 - val_acc: 0.8950\n",
      "Epoch 4/15\n",
      "12900/12900 [==============================] - 1s 58us/step - loss: 0.2234 - acc: 0.9257 - val_loss: 0.2700 - val_acc: 0.8978\n",
      "Epoch 5/15\n",
      "12900/12900 [==============================] - 1s 49us/step - loss: 0.1977 - acc: 0.9330 - val_loss: 0.2629 - val_acc: 0.8983\n",
      "Epoch 6/15\n",
      "12900/12900 [==============================] - 1s 51us/step - loss: 0.1797 - acc: 0.9380 - val_loss: 0.2602 - val_acc: 0.8997\n",
      "Epoch 7/15\n",
      "12900/12900 [==============================] - 1s 50us/step - loss: 0.1661 - acc: 0.9409 - val_loss: 0.2607 - val_acc: 0.9000\n",
      "Epoch 8/15\n",
      "12900/12900 [==============================] - 1s 57us/step - loss: 0.1557 - acc: 0.9437 - val_loss: 0.2629 - val_acc: 0.9005\n",
      "Epoch 9/15\n",
      "12900/12900 [==============================] - 1s 62us/step - loss: 0.1467 - acc: 0.9467 - val_loss: 0.2673 - val_acc: 0.9019\n",
      "Epoch 10/15\n",
      "12900/12900 [==============================] - 1s 75us/step - loss: 0.1390 - acc: 0.9485 - val_loss: 0.2720 - val_acc: 0.9005\n",
      "Epoch 11/15\n",
      "12900/12900 [==============================] - 1s 59us/step - loss: 0.1327 - acc: 0.9523 - val_loss: 0.2768 - val_acc: 0.9014\n",
      "Epoch 12/15\n",
      "12900/12900 [==============================] - 1s 51us/step - loss: 0.1267 - acc: 0.9547 - val_loss: 0.2838 - val_acc: 0.9003\n",
      "Epoch 13/15\n",
      "12900/12900 [==============================] - 1s 65us/step - loss: 0.1217 - acc: 0.9570 - val_loss: 0.2886 - val_acc: 0.9006\n",
      "Epoch 14/15\n",
      "12900/12900 [==============================] - 1s 49us/step - loss: 0.1170 - acc: 0.9584 - val_loss: 0.2952 - val_acc: 0.9006\n",
      "Epoch 15/15\n",
      "12900/12900 [==============================] - 1s 63us/step - loss: 0.1130 - acc: 0.9605 - val_loss: 0.3007 - val_acc: 0.9006\n"
     ]
    }
   ],
   "source": [
    "division_factor = len(x_test)*50//100\n",
    "x_val = x_test[:division_factor]\n",
    "y_val = y_test[:division_factor]\n",
    "\n",
    "final_x_test = x_test[division_factor:]\n",
    "final_y_test = y_test[division_factor:]\n",
    "\n",
    "model.compile(optimizer='rmsprop',\n",
    "              loss='binary_crossentropy',\n",
    "              metrics=['acc'])\n",
    "\n",
    "history = model.fit(x_train,\n",
    "                    y_train,\n",
    "                    epochs=15,\n",
    "                    batch_size=128,\n",
    "                    validation_data=(x_val, y_val))"
   ]
  },
  {
   "cell_type": "code",
   "execution_count": 12,
   "metadata": {
    "ExecuteTime": {
     "end_time": "2019-06-13T11:52:37.742853Z",
     "start_time": "2019-06-13T11:52:33.662007Z"
    }
   },
   "outputs": [
    {
     "name": "stdout",
     "output_type": "stream",
     "text": [
      "6450/6450 [==============================] - 0s 32us/step\n",
      "[0.3089576012358185, 0.9012403100035912]\n",
      "true =5260 false = 637\n",
      "0.8788973384030419\n"
     ]
    }
   ],
   "source": [
    "loss= 0\n",
    "true = 0\n",
    "false= 0\n",
    "for x,y in zip(final_x_test, final_y_test):\n",
    "    result = model.predict( np.array( [x,] )  )\n",
    "    if y==1 and result >= 0.8:\n",
    "        true+=1\n",
    "    if y==0 and result<0.2:\n",
    "        true+=1\n",
    "    if y==1 and result<0.5:\n",
    "        false+=1\n",
    "    if y==0 and result >=0.5:\n",
    "        false+=1\n",
    "\n",
    "\n",
    "results = model.evaluate(final_x_test, final_y_test)\n",
    "print(results)\n",
    "print( \"true =\"+ str(true) +\" false = \"+ str(false))\n",
    "print(1-false/true)"
   ]
  },
  {
   "cell_type": "code",
   "execution_count": 13,
   "metadata": {
    "ExecuteTime": {
     "end_time": "2019-06-13T11:53:03.865586Z",
     "start_time": "2019-06-13T11:53:00.144286Z"
    },
    "scrolled": false
   },
   "outputs": [
    {
     "data": {
      "image/png": "[encoded data removed]",
      "text/plain": [
       "<Figure size 432x288 with 1 Axes>"
      ]
     },
     "metadata": {
      "needs_background": "light"
     },
     "output_type": "display_data"
    },
    {
     "data": {
      "image/png": "[encoded data removed]",
      "text/plain": [
       "<Figure size 432x288 with 1 Axes>"
      ]
     },
     "metadata": {
      "needs_background": "light"
     },
     "output_type": "display_data"
    }
   ],
   "source": [
    "%matplotlib inline\n",
    "import matplotlib.pyplot as plt\n",
    "\n",
    "history_dict = history.history\n",
    "history_dict.keys()\n",
    "\n",
    "acc = history.history['acc']\n",
    "val_acc = history.history['val_acc']\n",
    "loss = history.history['loss']\n",
    "val_loss = history.history['val_loss']\n",
    "\n",
    "epochs = range(1, len(acc) + 1)\n",
    "\n",
    "# \"bo\" is for \"blue dot\"\n",
    "plt.plot(epochs, loss, 'bo', label='Training loss')\n",
    "# b is for \"solid blue line\"\n",
    "plt.plot(epochs, val_loss, 'b', label='Validation loss')\n",
    "plt.title('Training and validation loss')\n",
    "plt.xlabel('Epochs')\n",
    "plt.ylabel('Loss')\n",
    "plt.legend()\n",
    "\n",
    "plt.show()\n",
    "\n",
    "plt.clf()   # clear figure\n",
    "acc_values = history_dict['acc']\n",
    "val_acc_values = history_dict['val_acc']\n",
    "\n",
    "plt.plot(epochs, acc, 'bo', label='Training acc')\n",
    "plt.plot(epochs, val_acc, 'b', label='Validation acc')\n",
    "plt.title('Training and validation accuracy')\n",
    "plt.xlabel('Epochs')\n",
    "plt.ylabel('Accuracy')\n",
    "plt.legend()\n",
    "\n",
    "plt.show()"
   ]
  },
  {
   "cell_type": "code",
   "execution_count": 17,
   "metadata": {
    "ExecuteTime": {
     "end_time": "2019-06-10T15:16:58.954872Z",
     "start_time": "2019-06-10T15:16:58.782335Z"
    }
   },
   "outputs": [
    {
     "name": "stdout",
     "output_type": "stream",
     "text": [
      "sanity check\n",
      "6450 inctences predicted\n",
      "6450 inctences Exist\n"
     ]
    }
   ],
   "source": [
    "from sklearn.metrics import confusion_matrix\n",
    "import itertools\n",
    "\n",
    "y_pred = model.predict(final_x_test)\n",
    "y_true = final_y_test\n",
    "\n",
    "print(\"sanity check\")\n",
    "print(\"{} inctences predicted\".format(len(y_pred)))\n",
    "print(\"{} inctences Exist\".format(len(y_true)))\n",
    "\n",
    "cm = confusion_matrix(y_true, y_pred.round())  #round"
   ]
  },
  {
   "cell_type": "code",
   "execution_count": 18,
   "metadata": {
    "ExecuteTime": {
     "end_time": "2019-06-10T15:17:13.920425Z",
     "start_time": "2019-06-10T15:17:13.911482Z"
    }
   },
   "outputs": [],
   "source": [
    "def plot_confusion_matrix(cm, classes, \n",
    "                          normalize=False,\n",
    "                         title=\"Confusion matrix\",\n",
    "                         cmap = plt.cm.Blues):\n",
    "    plt.imshow(cm,interpolation='nearest', cmap=cmap)\n",
    "    plt.title(title)\n",
    "    plt.colorbar()\n",
    "    tick_marks = np.arange(len(classes))\n",
    "    plt.xticks(tick_marks, classes, rotation=45)\n",
    "    plt.yticks(tick_marks, classes)\n",
    "    \n",
    "    if normalize:\n",
    "        cm=cm.astype('float')/ cm.sum(axis=1)[:,np.newaxis]\n",
    "        print(\"normalized Confusion Matrix\")\n",
    "    else:\n",
    "        print(\"Confusion matrix without normalization\")\n",
    "    \n",
    "    print(cm)\n",
    "    \n",
    "    thresh=cm.max()/2.\n",
    "    \n",
    "    for i,j in itertools.product(range(cm.shape[0]), range(cm.shape[1])):\n",
    "        plt.text(j, i, cm[i,j],\n",
    "                horizontalalignment='center',\n",
    "                color='white' if cm[i,j]>thresh else 'black')\n",
    "    plt.tight_layout()\n",
    "    plt.ylabel(\"True values\")\n",
    "    plt.xlabel(\"predicted values\")\n",
    "    "
   ]
  },
  {
   "cell_type": "code",
   "execution_count": 19,
   "metadata": {
    "ExecuteTime": {
     "end_time": "2019-06-10T15:17:14.921812Z",
     "start_time": "2019-06-10T15:17:14.476655Z"
    }
   },
   "outputs": [
    {
     "name": "stdout",
     "output_type": "stream",
     "text": [
      "Confusion matrix without normalization\n",
      "[[2934  297]\n",
      " [ 317 2902]]\n"
     ]
    },
    {
     "data": {
      "image/png": "[encoded data removed]",
      "text/plain": [
       "<Figure size 432x288 with 2 Axes>"
      ]
     },
     "metadata": {
      "needs_background": "light"
     },
     "output_type": "display_data"
    }
   ],
   "source": [
    "cm_plot_labels=['Negative sentiment','positive sentiment']\n",
    "plot_confusion_matrix(cm,cm_plot_labels,title='confusion matrix')"
   ]
  },
  {
   "cell_type": "code",
   "execution_count": null,
   "metadata": {},
   "outputs": [],
   "source": []
  }
 ],
 "metadata": {
  "kernelspec": {
   "display_name": "Python 3",
   "language": "python",
   "name": "python3"
  },
  "language_info": {
   "codemirror_mode": {
    "name": "ipython",
    "version": 3
   },
   "file_extension": ".py",
   "mimetype": "text/x-python",
   "name": "python",
   "nbconvert_exporter": "python",
   "pygments_lexer": "ipython3",
   "version": "3.5.6"
  }
 },
 "nbformat": 4,
 "nbformat_minor": 2
}
