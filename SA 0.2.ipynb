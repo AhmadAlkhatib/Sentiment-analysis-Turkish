{
 "cells": [
  {
   "cell_type": "code",
   "execution_count": 1,
   "metadata": {
    "ExecuteTime": {
     "end_time": "2019-06-13T11:58:31.987242Z",
     "start_time": "2019-06-13T11:57:48.030589Z"
    }
   },
   "outputs": [
    {
     "name": "stdout",
     "output_type": "stream",
     "text": [
      "[nltk_data] Error loading punkt: <urlopen error [Errno 11001]\n",
      "[nltk_data]     getaddrinfo failed>\n"
     ]
    },
    {
     "data": {
      "text/plain": [
       "False"
      ]
     },
     "execution_count": 1,
     "metadata": {},
     "output_type": "execute_result"
    }
   ],
   "source": [
    "import tensorflow\n",
    "import csv\n",
    "import itertools\n",
    "import operator\n",
    "import numpy as np\n",
    "import nltk\n",
    "import sys\n",
    "import os\n",
    "import time\n",
    "import random\n",
    "import tensorflow as tf\n",
    "from tensorflow import keras\n",
    "#from TurkishStemmer import TurkishStemmer\n",
    "import pandas as pd\n",
    "import re\n",
    "nltk.download('punkt')\n"
   ]
  },
  {
   "cell_type": "code",
   "execution_count": 2,
   "metadata": {
    "ExecuteTime": {
     "end_time": "2019-06-13T11:58:34.846325Z",
     "start_time": "2019-06-13T11:58:31.987242Z"
    }
   },
   "outputs": [
    {
     "name": "stdout",
     "output_type": "stream",
     "text": [
      "read 25800 rows\n",
      "12900\n",
      "25800\n"
     ]
    }
   ],
   "source": [
    "# stemmer=TurkishStemmer.TurkishStemmer()\n",
    "\n",
    "sentence_padding_token = \"<PAD>\"\n",
    "sentence_start_token = \"<START>\"\n",
    "sentence_unknown_token = \"<UNK>\"\n",
    "sentence_unused_token=\"<UNUSED>\"\n",
    "\n",
    "data = pd.read_csv(\"processed_data.csv\",header=None)\n",
    "\n",
    "sentences=[]\n",
    "labels=[]\n",
    "num_rows = 0\n",
    "\n",
    "for row in data.iterrows():\n",
    "\n",
    "    sentence = row[1][0]\n",
    "    label = row[1][1]\n",
    "    sentence = re.sub('[:.(),;@$%^&*]', '', sentence)\n",
    "    \n",
    "    if (label != 3):\n",
    "        num_rows+=1\n",
    "    \n",
    "    if label==1 or label==2:\n",
    "        sentences.append(sentence)\n",
    "        labels.append(0)\n",
    "\n",
    "    elif label==4 or label==5:\n",
    "        sentences.append(sentence)\n",
    "        labels.append(1)\n",
    "\n",
    "print(\"read \" + str(num_rows) +\" rows\")\n",
    "\n",
    "division_factor = len(sentences) * 50 // 100\n",
    "print(division_factor)\n",
    "print(len(sentences))"
   ]
  },
  {
   "cell_type": "code",
   "execution_count": 3,
   "metadata": {
    "ExecuteTime": {
     "end_time": "2019-06-13T11:58:41.417858Z",
     "start_time": "2019-06-13T11:58:34.850303Z"
    }
   },
   "outputs": [
    {
     "name": "stdout",
     "output_type": "stream",
     "text": [
      "Tokenizing...\n",
      "Done.\n"
     ]
    }
   ],
   "source": [
    "# --------------------------------------------------------------------\n",
    "# tokenizing ---------------------------------------------------------\n",
    "# --------------------------------------------------------------------\n",
    "print(\"Tokenizing...\")\n",
    "tokenized_sentences = [nltk.word_tokenize(sent) for sent in sentences]\n",
    "print(\"Done.\")"
   ]
  },
  {
   "cell_type": "code",
   "execution_count": 4,
   "metadata": {
    "ExecuteTime": {
     "end_time": "2019-06-13T11:58:42.467449Z",
     "start_time": "2019-06-13T11:58:41.420850Z"
    }
   },
   "outputs": [
    {
     "name": "stdout",
     "output_type": "stream",
     "text": [
      "Building dictionary...\n",
      "Found 80785 unique words tokens.\n",
      "vocab size is = 29999\n",
      "Using vocabulary size 30004.\n",
      "Tokenized sentence example ['<START>', '3', 'yıldır', 'tık', 'demedi']\n"
     ]
    }
   ],
   "source": [
    "#---------------------------------------------------------------------\n",
    "# building a dictionary ----------------------------------------------\n",
    "# --------------------------------------------------------------------\n",
    "print(\"Building dictionary...\")\n",
    "vocabulary_size = 30000\n",
    "\n",
    "# Count the word frequencies\n",
    "word_freq = nltk.FreqDist(itertools.chain(*tokenized_sentences))\n",
    "print(\"Found %d unique words tokens.\" % len(word_freq.items()))\n",
    " \n",
    "# Get the most common words and build index_to_word and word_to_index vectors limited by vocabulary_size\n",
    "vocab = word_freq.most_common(vocabulary_size-1)\n",
    "print(\"vocab size is = \" + str(len(vocab)))\n",
    "index_to_word = [x[0] for x in vocab]\n",
    "\n",
    "# inserting tokens <PAD>, <START>, <UNK>, <UNUSED>\n",
    "index_to_word.insert(0,sentence_unused_token)\n",
    "index_to_word.insert(0,sentence_unknown_token)\n",
    "index_to_word.insert(0,sentence_start_token)\n",
    "index_to_word.insert(0,sentence_padding_token)\n",
    "\n",
    "\n",
    "# bulding a word to index dictionary\n",
    "word_to_index = dict([(w,i) for i,w in enumerate(index_to_word)])\n",
    "vocabulary_size += 4\n",
    "print(\"Using vocabulary size %d.\" % vocabulary_size)\n",
    "\n",
    "\n",
    "# ---------------------------------------------------------------------------------------\n",
    "# adding start token to each sentence. Required for keras -------------------------------\n",
    "# ---------------------------------------------------------------------------------------\n",
    "for sent in tokenized_sentences: \n",
    "    sent.insert(0,sentence_start_token)\n",
    "    \n",
    "\n",
    "# ---------------------------------------------------------------------------------------\n",
    "# ---------------------------------------------------------------------------------------\n",
    "for i, sent in enumerate(tokenized_sentences):\n",
    "    tokenized_sentences[i] = [w if w in word_to_index else sentence_unknown_token for w in sent]\n",
    "\n",
    "print(\"Tokenized sentence example %s\" %tokenized_sentences[0])"
   ]
  },
  {
   "cell_type": "code",
   "execution_count": 5,
   "metadata": {
    "ExecuteTime": {
     "end_time": "2019-06-13T11:58:42.971101Z",
     "start_time": "2019-06-13T11:58:42.469443Z"
    }
   },
   "outputs": [
    {
     "name": "stdout",
     "output_type": "stream",
     "text": [
      "Creating datasets...\n",
      "\n",
      "check shapes ----------\n",
      "shape of X_train (12900,)\n",
      "shape of X_test (12900,)\n",
      "shape of Y_train (12900,)\n",
      "shape of Y_test (12900,)\n",
      "Done.\n"
     ]
    }
   ],
   "source": [
    "# ---------------------------------------------------------------------------------------\n",
    "# Create the training data --------------------------------------------------------------\n",
    "# ---------------------------------------------------------------------------------------\n",
    "print(\"Creating datasets...\")\n",
    "\n",
    "# converting to indices\n",
    "X_temp = np.asarray([[word_to_index[w] for w in sent] for sent in tokenized_sentences])\n",
    "\n",
    "# shuffling data\n",
    "unison_data = list(zip(X_temp,labels))\n",
    "random.shuffle(unison_data)\n",
    "data, lbls = zip(*unison_data)    \n",
    "\n",
    "# Splitting data\n",
    "X_train, X_test = np.asarray(data[ : division_factor]), np.asarray(data[division_factor : ]) # 50, 50\n",
    "Y_train ,Y_test = np.asarray(lbls[ : division_factor]), np.asarray(lbls[division_factor : ]) # 50, 50\n",
    "\n",
    "# Sanity checks\n",
    "print(\"\\ncheck shapes ----------\")\n",
    "print(\"shape of X_train \" + str(X_train.shape))\n",
    "print(\"shape of X_test \" + str(X_test.shape))\n",
    "print(\"shape of Y_train \" + str(Y_train.shape))\n",
    "print(\"shape of Y_test \" + str(Y_test.shape))\n",
    "print(\"Done.\")"
   ]
  },
  {
   "cell_type": "code",
   "execution_count": 6,
   "metadata": {
    "ExecuteTime": {
     "end_time": "2019-06-13T11:58:43.728429Z",
     "start_time": "2019-06-13T11:58:42.973096Z"
    }
   },
   "outputs": [
    {
     "name": "stdout",
     "output_type": "stream",
     "text": [
      "Training data length = 12900 Testing data length = 6450\n",
      "\n",
      "check shapes -----------\n",
      "shape of train_data (12900, 256) | must be -> (Training data length, maxlen)\n",
      "shape of train_data[0] (256,) | must be -> (maxlen, )\n",
      "shape of test (6450, 256) | must be -> (Testing data length, maxlen)\n",
      "shape of test[0] (256,) | must be -> (maxlen, )\n",
      "\n",
      "check shapes -----------\n",
      "train_data length 12900\n",
      "shape of partial_x_train (12900, 256)\n",
      "shape of partial_x_train[0] (256,)\n",
      "shape of x_val (6450, 256)\n",
      "\n",
      "shape of partial_y_train (12900,)\n",
      "shape of partial_y_train[0] ()\n",
      "shape of y_val (6450,)\n",
      "_________________________________________________________________\n",
      "Layer (type)                 Output Shape              Param #   \n",
      "=================================================================\n",
      "embedding (Embedding)        (None, None, 32)          960128    \n",
      "_________________________________________________________________\n",
      "global_average_pooling1d (Gl (None, 32)                0         \n",
      "_________________________________________________________________\n",
      "dense (Dense)                (None, 32)                1056      \n",
      "_________________________________________________________________\n",
      "dense_1 (Dense)              (None, 1)                 33        \n",
      "=================================================================\n",
      "Total params: 961,217\n",
      "Trainable params: 961,217\n",
      "Non-trainable params: 0\n",
      "_________________________________________________________________\n",
      "_________________________________________________________________\n",
      "Layer (type)                 Output Shape              Param #   \n",
      "=================================================================\n",
      "embedding (Embedding)        (None, None, 32)          960128    \n",
      "_________________________________________________________________\n",
      "global_average_pooling1d (Gl (None, 32)                0         \n",
      "_________________________________________________________________\n",
      "dense (Dense)                (None, 32)                1056      \n",
      "_________________________________________________________________\n",
      "dense_1 (Dense)              (None, 1)                 33        \n",
      "=================================================================\n",
      "Total params: 961,217\n",
      "Trainable params: 961,217\n",
      "Non-trainable params: 0\n",
      "_________________________________________________________________\n",
      "None\n"
     ]
    }
   ],
   "source": [
    "# preparing input tensors\n",
    "train_data = keras.preprocessing.sequence.pad_sequences(X_train,\n",
    "                                                        value=word_to_index[\"<PAD>\"],\n",
    "                                                        padding='post',\n",
    "                                                        maxlen=256) \n",
    "\n",
    "test_data = keras.preprocessing.sequence.pad_sequences(X_test,\n",
    "                                                       value=word_to_index[\"<PAD>\"],\n",
    "                                                       padding='post',\n",
    "                                                       maxlen=256) \n",
    "\n",
    "# validtion set -------------------------\n",
    "division_factor = len(test_data)*50//100 # 50 percent of the test_data = 25 percent of the total data\n",
    "\n",
    "partial_x_train = train_data # to fit the model = 50 percent of the data\n",
    "x_val = test_data[:division_factor] # to validate\n",
    "\n",
    "partial_y_train = Y_train # to fit the model = 50 percent of the data\n",
    "y_val = Y_test[:division_factor] # to validate\n",
    "\n",
    "test_data = test_data[division_factor: ]\n",
    "Y_test = Y_test[division_factor: ]\n",
    "\n",
    "# Sanity checks\n",
    "print(\"Training data length = %d Testing data length = %d\" % (len(train_data), len(test_data)))\n",
    "print(\"\\ncheck shapes -----------\")\n",
    "print(\"shape of train_data \" + str(train_data.shape) + \" | must be -> (Training data length, maxlen)\")\n",
    "print(\"shape of train_data[0] \" + str(train_data[0].shape) + \" | must be -> (maxlen, )\" ) \n",
    "\n",
    "print(\"shape of test \" + str(test_data.shape) + \" | must be -> (Testing data length, maxlen)\")\n",
    "print(\"shape of test[0] \" + str(test_data[0].shape) + \" | must be -> (maxlen, )\" ) \n",
    "\n",
    "print(\"\\ncheck shapes -----------\")\n",
    "print(\"train_data length %d\" %len(train_data))\n",
    "print(\"shape of partial_x_train \" + str(partial_x_train.shape))\n",
    "print(\"shape of partial_x_train[0] \" + str(partial_x_train[0].shape)  ) \n",
    "print(\"shape of x_val \"+ str(x_val.shape))\n",
    "print(\"\\nshape of partial_y_train \"+str(partial_y_train.shape))\n",
    "print(\"shape of partial_y_train[0] \"+str(partial_y_train[0].shape))\n",
    "print(\"shape of y_val \"+str(y_val.shape))\n",
    "\n",
    "# building model\n",
    "model = keras.Sequential()\n",
    "model.add(keras.layers.Embedding(vocabulary_size, 32))\n",
    "model.add(keras.layers.GlobalAveragePooling1D())\n",
    "model.add(keras.layers.Dense(32, activation=tf.nn.relu))\n",
    "model.add(keras.layers.Dense(1, activation=tf.nn.sigmoid))\n",
    "\n",
    "model.summary()\n",
    "\n",
    "#model=keras.Sequential()\n",
    "#model.add(keras.layers.Embedding(vocabulary_size,output_dim=32))\n",
    "#model.add(keras.layers.LSTM(32))\n",
    "#model.add(keras.layers.Dense(1, activation='sigmoid'))\n",
    "print(model.summary())\n",
    "\n",
    "\n",
    "model.compile(optimizer=tf.train.AdamOptimizer(),\n",
    "              loss='binary_crossentropy',\n",
    "              metrics=['accuracy'])\n",
    "\n"
   ]
  },
  {
   "cell_type": "code",
   "execution_count": 7,
   "metadata": {
    "ExecuteTime": {
     "end_time": "2019-06-13T12:00:00.687062Z",
     "start_time": "2019-06-13T11:58:43.732410Z"
    }
   },
   "outputs": [
    {
     "name": "stdout",
     "output_type": "stream",
     "text": [
      "Train on 12900 samples, validate on 6450 samples\n",
      "Epoch 1/15\n",
      "12900/12900 [==============================] - 7s 514us/step - loss: 0.6926 - acc: 0.5228 - val_loss: 0.6890 - val_acc: 0.7157\n",
      "Epoch 2/15\n",
      "12900/12900 [==============================] - 5s 357us/step - loss: 0.6843 - acc: 0.6040 - val_loss: 0.6770 - val_acc: 0.6381\n",
      "Epoch 3/15\n",
      "12900/12900 [==============================] - 5s 367us/step - loss: 0.6456 - acc: 0.7012 - val_loss: 0.6023 - val_acc: 0.7093\n",
      "Epoch 4/15\n",
      "12900/12900 [==============================] - 5s 384us/step - loss: 0.4985 - acc: 0.8402 - val_loss: 0.4379 - val_acc: 0.8436\n",
      "Epoch 5/15\n",
      "12900/12900 [==============================] - 5s 406us/step - loss: 0.3549 - acc: 0.8874 - val_loss: 0.3683 - val_acc: 0.8544\n",
      "Epoch 6/15\n",
      "12900/12900 [==============================] - 5s 403us/step - loss: 0.2864 - acc: 0.9056 - val_loss: 0.3283 - val_acc: 0.8623\n",
      "Epoch 7/15\n",
      "12900/12900 [==============================] - 5s 381us/step - loss: 0.2464 - acc: 0.9183 - val_loss: 0.3072 - val_acc: 0.8797\n",
      "Epoch 8/15\n",
      "12900/12900 [==============================] - 5s 367us/step - loss: 0.2196 - acc: 0.9259 - val_loss: 0.2917 - val_acc: 0.8891\n",
      "Epoch 9/15\n",
      "12900/12900 [==============================] - 5s 372us/step - loss: 0.1976 - acc: 0.9354 - val_loss: 0.2816 - val_acc: 0.8924\n",
      "Epoch 10/15\n",
      "12900/12900 [==============================] - 5s 411us/step - loss: 0.1821 - acc: 0.9391 - val_loss: 0.2760 - val_acc: 0.8946\n",
      "Epoch 11/15\n",
      "12900/12900 [==============================] - 5s 381us/step - loss: 0.1641 - acc: 0.9471 - val_loss: 0.2731 - val_acc: 0.8964\n",
      "Epoch 12/15\n",
      "12900/12900 [==============================] - 5s 380us/step - loss: 0.1522 - acc: 0.9510 - val_loss: 0.2954 - val_acc: 0.8809\n",
      "Epoch 13/15\n",
      "12900/12900 [==============================] - 5s 385us/step - loss: 0.1393 - acc: 0.9543 - val_loss: 0.2697 - val_acc: 0.8981\n",
      "Epoch 14/15\n",
      "12900/12900 [==============================] - 5s 398us/step - loss: 0.1278 - acc: 0.9576 - val_loss: 0.2853 - val_acc: 0.8916\n",
      "Epoch 15/15\n",
      "12900/12900 [==============================] - 5s 385us/step - loss: 0.1182 - acc: 0.9627 - val_loss: 0.2710 - val_acc: 0.9026\n"
     ]
    }
   ],
   "source": [
    "history = model.fit(partial_x_train,\n",
    "                    partial_y_train,\n",
    "                    epochs=15,\n",
    "                    batch_size=32, \n",
    "                    validation_data=(x_val, y_val),\n",
    "                    verbose=1)\n"
   ]
  },
  {
   "cell_type": "code",
   "execution_count": 8,
   "metadata": {
    "ExecuteTime": {
     "end_time": "2019-06-13T12:00:53.143333Z",
     "start_time": "2019-06-13T12:00:52.901979Z"
    }
   },
   "outputs": [
    {
     "name": "stdout",
     "output_type": "stream",
     "text": [
      "6450/6450 [==============================] - 0s 36us/step\n",
      "[0.2846570395868878, 0.896124031026234]\n"
     ]
    }
   ],
   "source": [
    "results = model.evaluate(test_data, Y_test)\n",
    "\n",
    "print(results)"
   ]
  },
  {
   "cell_type": "code",
   "execution_count": 9,
   "metadata": {
    "ExecuteTime": {
     "end_time": "2019-06-13T12:00:57.539492Z",
     "start_time": "2019-06-13T12:00:57.534471Z"
    }
   },
   "outputs": [
    {
     "data": {
      "text/plain": [
       "dict_keys(['loss', 'val_loss', 'val_acc', 'acc'])"
      ]
     },
     "execution_count": 9,
     "metadata": {},
     "output_type": "execute_result"
    }
   ],
   "source": [
    "history_dict = history.history\n",
    "history_dict.keys()"
   ]
  },
  {
   "cell_type": "code",
   "execution_count": 10,
   "metadata": {
    "ExecuteTime": {
     "end_time": "2019-06-13T12:01:01.225787Z",
     "start_time": "2019-06-13T12:01:00.890007Z"
    }
   },
   "outputs": [
    {
     "data": {
      "image/png": "[encoded data removed]",
      "text/plain": [
       "<Figure size 432x288 with 1 Axes>"
      ]
     },
     "metadata": {
      "needs_background": "light"
     },
     "output_type": "display_data"
    }
   ],
   "source": [
    "%matplotlib inline\n",
    "import matplotlib.pyplot as plt\n",
    "\n",
    "acc = history.history['acc']\n",
    "val_acc = history.history['val_acc']\n",
    "loss = history.history['loss']\n",
    "val_loss = history.history['val_loss']\n",
    "\n",
    "epochs = range(1, len(acc) + 1)\n",
    "\n",
    "# \"bo\" is for \"blue dot\"\n",
    "plt.plot(epochs, loss, 'bo', label='Training loss')\n",
    "# b is for \"solid blue line\"\n",
    "plt.plot(epochs, val_loss, 'b', label='Validation loss')\n",
    "plt.title('Training and validation loss')\n",
    "plt.xlabel('Epochs')\n",
    "plt.ylabel('Loss')\n",
    "plt.legend()\n",
    "\n",
    "plt.show()"
   ]
  },
  {
   "cell_type": "code",
   "execution_count": 11,
   "metadata": {
    "ExecuteTime": {
     "end_time": "2019-06-10T17:10:13.914300Z",
     "start_time": "2019-06-10T17:10:13.764700Z"
    }
   },
   "outputs": [
    {
     "data": {
      "image/png": "[encoded data removed]",
      "text/plain": [
       "<Figure size 432x288 with 1 Axes>"
      ]
     },
     "metadata": {
      "needs_background": "light"
     },
     "output_type": "display_data"
    }
   ],
   "source": [
    "plt.clf()   # clear figure\n",
    "acc_values = history_dict['acc']\n",
    "val_acc_values = history_dict['val_acc']\n",
    "\n",
    "plt.plot(epochs, acc, 'bo', label='Training acc')\n",
    "plt.plot(epochs, val_acc, 'b', label='Validation acc')\n",
    "plt.title('Training and validation accuracy')\n",
    "plt.xlabel('Epochs')\n",
    "plt.ylabel('Accuracy')\n",
    "plt.legend()\n",
    "\n",
    "plt.show()"
   ]
  },
  {
   "cell_type": "code",
   "execution_count": 11,
   "metadata": {
    "ExecuteTime": {
     "end_time": "2019-06-13T12:03:30.123404Z",
     "start_time": "2019-06-13T12:03:29.822514Z"
    }
   },
   "outputs": [
    {
     "name": "stdout",
     "output_type": "stream",
     "text": [
      "sanity check\n",
      "6450 inctences predicted\n",
      "6450 inctences Exist\n"
     ]
    }
   ],
   "source": [
    "from sklearn.metrics import confusion_matrix\n",
    "import itertools\n",
    "\n",
    "y_pred = model.predict(test_data)\n",
    "y_true = Y_test\n",
    "\n",
    "print(\"sanity check\")\n",
    "print(\"{} inctences predicted\".format(len(y_pred)))\n",
    "print(\"{} inctences Exist\".format(len(y_true)))\n",
    "\n",
    "cm = confusion_matrix(y_true, y_pred.round())  #round"
   ]
  },
  {
   "cell_type": "code",
   "execution_count": 12,
   "metadata": {
    "ExecuteTime": {
     "end_time": "2019-06-13T12:03:32.801882Z",
     "start_time": "2019-06-13T12:03:32.794899Z"
    }
   },
   "outputs": [],
   "source": [
    "def plot_confusion_matrix(cm, classes, \n",
    "                          normalize=False,\n",
    "                         title=\"Confusion matrix\",\n",
    "                         cmap = plt.cm.Blues):\n",
    "    plt.imshow(cm,interpolation='nearest', cmap=cmap)\n",
    "    plt.title(title)\n",
    "    plt.colorbar()\n",
    "    tick_marks = np.arange(len(classes))\n",
    "    plt.xticks(tick_marks, classes, rotation=45)\n",
    "    plt.yticks(tick_marks, classes)\n",
    "    \n",
    "    if normalize:\n",
    "        cm=cm.astype('float')/ cm.sum(axis=1)[:,np.newaxis]\n",
    "        print(\"normalized Confusion Matrix\")\n",
    "    else:\n",
    "        print(\"Confusion matrix without normalization\")\n",
    "    \n",
    "    print(cm)\n",
    "    \n",
    "    thresh=cm.max()/2.\n",
    "    \n",
    "    for i,j in itertools.product(range(cm.shape[0]), range(cm.shape[1])):\n",
    "        plt.text(j, i, cm[i,j],\n",
    "                horizontalalignment='center',\n",
    "                color='white' if cm[i,j]>thresh else 'black')\n",
    "    plt.tight_layout()\n",
    "    plt.ylabel(\"True values\")\n",
    "    plt.xlabel(\"predicted values\")\n",
    "    "
   ]
  },
  {
   "cell_type": "code",
   "execution_count": 13,
   "metadata": {
    "ExecuteTime": {
     "end_time": "2019-06-13T12:03:34.898642Z",
     "start_time": "2019-06-13T12:03:34.489720Z"
    }
   },
   "outputs": [
    {
     "name": "stdout",
     "output_type": "stream",
     "text": [
      "Confusion matrix without normalization\n",
      "[[2804  386]\n",
      " [ 284 2976]]\n"
     ]
    },
    {
     "data": {
      "image/png": "[encoded data removed]",
      "text/plain": [
       "<Figure size 432x288 with 2 Axes>"
      ]
     },
     "metadata": {
      "needs_background": "light"
     },
     "output_type": "display_data"
    }
   ],
   "source": [
    "cm_plot_labels=['Negative sentiment','positive sentiment']\n",
    "plot_confusion_matrix(cm,cm_plot_labels,title='confusion matrix')"
   ]
  },
  {
   "cell_type": "code",
   "execution_count": null,
   "metadata": {},
   "outputs": [],
   "source": []
  }
 ],
 "metadata": {
  "kernelspec": {
   "display_name": "Python 3",
   "language": "python",
   "name": "python3"
  },
  "language_info": {
   "codemirror_mode": {
    "name": "ipython",
    "version": 3
   },
   "file_extension": ".py",
   "mimetype": "text/x-python",
   "name": "python",
   "nbconvert_exporter": "python",
   "pygments_lexer": "ipython3",
   "version": "3.5.6"
  }
 },
 "nbformat": 4,
 "nbformat_minor": 2
}
